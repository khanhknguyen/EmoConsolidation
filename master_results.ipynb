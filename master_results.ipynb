{
  "nbformat": 4,
  "nbformat_minor": 0,
  "metadata": {
    "colab": {
      "provenance": []
    },
    "kernelspec": {
      "name": "python3",
      "display_name": "Python 3"
    },
    "language_info": {
      "name": "python"
    }
  },
  "cells": [
    {
      "cell_type": "markdown",
      "source": [
        "This takes\n",
        "- a CSV file specific to the participant titled \"p###_results.csv\"\n",
        "- a CSV file with all previous participants titled \"master_results.csv\"\n",
        "\n",
        "This outputs\n",
        "- a CSV file with all participants (including the participant added) titled \"master_results.csv\" (hover over master_results.csv in the files sidebar to see last update time after running script)\n",
        "\n",
        "NOTE: This code was originally written to add one participant at a time as they were run, but has been edited to add all participants at once. "
      ],
      "metadata": {
        "id": "WTR_5W_fnMCA"
      }
    },
    {
      "cell_type": "code",
      "execution_count": null,
      "metadata": {
        "id": "nRVXyXA_--qy"
      },
      "outputs": [],
      "source": [
        "import pandas as pd"
      ]
    },
    {
      "cell_type": "code",
      "source": [
        "#find file to be added\n",
        "for i in list(range(2,41)):\n",
        "  #parInput = input(\"Participant Number?\")\n",
        "  parInput = str(i).zfill(3)\n",
        "  add_file = str(parInput) + \"_results.csv\"\n",
        "\n",
        "  #open master file\n",
        "  master_df = pd.read_csv(\"master_results.csv\")\n",
        "\n",
        "  #open file to be added\n",
        "  add_df = pd.read_csv(add_file)\n",
        "\n",
        "  new_master = master_df.append(add_df)\n",
        "\n",
        "  new_master.to_csv(\"master_results.csv\", index = False, header = True)"
      ],
      "metadata": {
        "id": "NxxSsvs8IJka"
      },
      "execution_count": null,
      "outputs": []
    },
    {
      "cell_type": "code",
      "source": [
        "#run in case of accidentally adding a row twice\n",
        "#removes the last row from the master_df\n",
        "\n",
        "#master_df.drop(master_df.tail(1).index,inplace=True)"
      ],
      "metadata": {
        "id": "DEMxTh7pmvGe"
      },
      "execution_count": null,
      "outputs": []
    }
  ]
}